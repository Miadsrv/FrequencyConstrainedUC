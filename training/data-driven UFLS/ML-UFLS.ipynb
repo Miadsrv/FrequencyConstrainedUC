{
 "cells": [
  {
   "cell_type": "code",
   "execution_count": 12,
   "id": "95c5e66d",
   "metadata": {},
   "outputs": [],
   "source": [
    "import numpy as np\n",
    "import pandas as pd\n",
    "import matplotlib.pyplot as plt\n",
    "from sklearn.model_selection  import train_test_split\n",
    "from sklearn.metrics import mean_absolute_error\n",
    "from sklearn.linear_model import LogisticRegression\n",
    "from sklearn.linear_model import LinearRegression"
   ]
  },
  {
   "cell_type": "code",
   "execution_count": 7,
   "id": "3effe750",
   "metadata": {},
   "outputs": [],
   "source": [
    "sfrData_withUFLS = np.genfromtxt(r\"insert directory of the text file of dataset\",skip_header=1)[:,1:]; #data"
   ]
  },
  {
   "cell_type": "code",
   "execution_count": 8,
   "id": "0cf43d96",
   "metadata": {},
   "outputs": [],
   "source": [
    "x=np.unique(sfrData_withUFLS[:,[0,2,3,9,13]],axis=0)[:,0:4];\n",
    "y=np.unique(sfrData_withUFLS[:,[0,2,3,9,13]],axis=0)[:,4]\n",
    "y_bi=y.copy();\n",
    "y_bi[y > 0] = 1;\n",
    "y_bi[y == 0] = 0;\n",
    "\n",
    "train_ratio = 0.80\n",
    "test_ratio = 0.2\n",
    "trainX, testX, trainY_bi, testY_bi, trainY, testY = train_test_split(x, y_bi, y, test_size= 1 - train_ratio, random_state=42)"
   ]
  },
  {
   "cell_type": "code",
   "execution_count": 9,
   "id": "b7c763d2",
   "metadata": {},
   "outputs": [
    {
     "name": "stdout",
     "output_type": "stream",
     "text": [
      "w= [[ 0.22090454 -0.04888795  7.93802714 -0.51636844]] \n",
      "b= [0.34501868] \n",
      "training error= 0.9754261678104937\n",
      "Cross validation= 0.9761061946902655\n"
     ]
    }
   ],
   "source": [
    "#Logistic regression splitting zero from nonzero UFLS\n",
    "\n",
    "lr_model=LogisticRegression().fit(trainX,trainY_bi)\n",
    "print(\"w=\",lr_model.coef_,\"\\nb=\",lr_model.intercept_,\"\\ntraining error=\",lr_model.score(trainX,trainY_bi))\n",
    "print(\"Cross validation=\",lr_model.score(testX,testY_bi))"
   ]
  },
  {
   "cell_type": "code",
   "execution_count": 10,
   "id": "821b71aa",
   "metadata": {},
   "outputs": [
    {
     "name": "stdout",
     "output_type": "stream",
     "text": [
      "0.9203832177073009\n",
      "w= [[ 0.00756986 -0.02628975  3.9091718  -0.38944138]] \n",
      "b= [0.07934798] \n",
      "training error= 0.9203832177073009\n"
     ]
    }
   ],
   "source": [
    "#Logistic regression splitting nonzero UFLS into lower and higher than threshold\n",
    "\n",
    "x_reg = trainX[~np.all(trainY.reshape(-1,1) == 0 ,axis=1)]\n",
    "y_reg = trainY[~np.all(trainY.reshape(-1,1) == 0 ,axis=1)]\n",
    "\n",
    "split_th=2.8\n",
    "\n",
    "y_bi_l2=y_reg.copy()\n",
    "y_bi_l2[y_reg<split_th]=0\n",
    "y_bi_l2[y_reg>split_th]=1\n",
    "\n",
    "lr_model_l2=LogisticRegression().fit(x_reg,y_bi_l2)\n",
    "y_bi_l2_ALR=lr_model_l2.predict(x_reg)\n",
    "print(lr_model_l2.score(x_reg,y_bi_l2))\n",
    "print(\"w=\",lr_model_l2.coef_,\"\\nb=\",lr_model_l2.intercept_,\"\\ntraining error=\",lr_model_l2.score(x_reg,y_bi_l2))\n",
    "   \n",
    "x_under3=x_reg[np.all(y_reg.reshape(-1,1) < split_th ,axis=1)]\n",
    "y_under3=y_reg[np.all(y_reg.reshape(-1,1) < split_th ,axis=1)]\n",
    "\n",
    "x_up3=x_reg[np.all(y_reg.reshape(-1,1) > split_th ,axis=1)]\n",
    "y_up3=y_reg[np.all(y_reg.reshape(-1,1) > split_th ,axis=1)]"
   ]
  },
  {
   "cell_type": "code",
   "execution_count": 13,
   "id": "71c596d5",
   "metadata": {},
   "outputs": [
    {
     "name": "stdout",
     "output_type": "stream",
     "text": [
      "0.04966747134082599 0.26343385894657223\n",
      "l1= [ 1.83061649e-02 -1.40835874e-05  1.04587013e-01 -5.32954191e-02]\n",
      "l2= [ 0.03373105 -0.00222222  0.83007189 -0.18424064]\n",
      "c1= 0.0867690341003855\n",
      "c2= 0.15574613422977546\n"
     ]
    }
   ],
   "source": [
    "#Linear regression to predict values in each leaf\n",
    "\n",
    "reg_model_l2_1=LinearRegression().fit(x_under3,y_under3)\n",
    "pred_l2_under3=reg_model_l2_1.predict(x_under3)\n",
    "reg_model_l2_1.score(x_under3,y_under3)\n",
    "\n",
    "\n",
    "reg_model_l2_2=LinearRegression().fit(x_up3,y_up3)\n",
    "pred_l2_up3=reg_model_l2_2.predict(x_up3)\n",
    "reg_model_l2_2.score(x_up3,y_up3)\n",
    "\n",
    "\n",
    "print(mean_absolute_error(y_under3, reg_model_l2_1.predict(x_under3)),mean_absolute_error(y_up3, reg_model_l2_2.predict(x_up3)))\n",
    "print(\"l1=\",reg_model_l2_1.coef_)\n",
    "print(\"l2=\",reg_model_l2_2.coef_)\n",
    "print(\"c1=\",reg_model_l2_1.intercept_)\n",
    "print(\"c2=\",reg_model_l2_2.intercept_)"
   ]
  }
 ],
 "metadata": {
  "kernelspec": {
   "display_name": "Python 3 (ipykernel)",
   "language": "python",
   "name": "python3"
  },
  "language_info": {
   "codemirror_mode": {
    "name": "ipython",
    "version": 3
   },
   "file_extension": ".py",
   "mimetype": "text/x-python",
   "name": "python",
   "nbconvert_exporter": "python",
   "pygments_lexer": "ipython3",
   "version": "3.11.5"
  }
 },
 "nbformat": 4,
 "nbformat_minor": 5
}
