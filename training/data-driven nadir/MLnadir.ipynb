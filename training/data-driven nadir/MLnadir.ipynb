{
 "cells": [
  {
   "cell_type": "code",
   "execution_count": 1,
   "id": "06770c30",
   "metadata": {},
   "outputs": [],
   "source": [
    "import numpy as np\n",
    "import pandas as pd\n",
    "import matplotlib.pyplot as plt\n",
    "from sklearn.model_selection  import train_test_split\n",
    "from sklearn.linear_model import LogisticRegression"
   ]
  },
  {
   "cell_type": "code",
   "execution_count": 2,
   "id": "43e1f10f",
   "metadata": {},
   "outputs": [],
   "source": [
    "sfrData = np.genfromtxt(r\"insert directory of the text file dataset \",skip_header=1)[:,1:];"
   ]
  },
  {
   "cell_type": "code",
   "execution_count": 7,
   "id": "e44b3cc2",
   "metadata": {},
   "outputs": [
    {
     "name": "stdout",
     "output_type": "stream",
     "text": [
      "w= [[-0.76970702  0.08930268 -6.51773368  5.51897807]] \n",
      "b= [1.78257655] \n",
      "training error= 0.9911043291511247\n",
      "Cross validation= 0.991048015191247\n"
     ]
    }
   ],
   "source": [
    "#nadir 3.5 Hz\n",
    "\n",
    "x=sfrData[:,[0,2,3,9]];\n",
    "y=sfrData[:,[10]]\n",
    "y_bi=y.copy();\n",
    "\n",
    "y_bi[y >= -3.5] = 1;\n",
    "y_bi[y < -3.5] = 0;\n",
    "\n",
    "train_ratio = 0.80\n",
    "test_ratio = 0.2\n",
    "trainX, testX, trainY_bi, testY_bi, trainY, testY = train_test_split(x, y_bi, y, test_size= 1 - train_ratio, random_state=42)\n",
    "lr_model=LogisticRegression(max_iter=1000).fit(trainX,trainY_bi.ravel())\n",
    "print(\"w=\",lr_model.coef_,\"\\nb=\",lr_model.intercept_,\"\\ntraining error=\",lr_model.score(trainX,trainY_bi))\n",
    "print(\"Cross validation=\",lr_model.score(testX,testY_bi))"
   ]
  },
  {
   "cell_type": "code",
   "execution_count": 9,
   "id": "6a3dd44e",
   "metadata": {},
   "outputs": [
    {
     "name": "stdout",
     "output_type": "stream",
     "text": [
      "w= [[-0.68281566  0.08152437 -5.94906082  4.78202908]] \n",
      "b= [1.236353] \n",
      "training error= 0.9890471346219057\n",
      "Cross validation= 0.9888778370557917\n"
     ]
    }
   ],
   "source": [
    "#nadir 3.4 Hz\n",
    "\n",
    "x=sfrData[:,[0,2,3,9]];\n",
    "y=sfrData[:,[10]]\n",
    "y_bi=y.copy();\n",
    "\n",
    "y_bi[y >= -3.4] = 1;\n",
    "y_bi[y < -3.4] = 0;\n",
    "\n",
    "train_ratio = 0.80\n",
    "test_ratio = 0.2\n",
    "trainX, testX, trainY_bi, testY_bi, trainY, testY = train_test_split(x, y_bi, y, test_size= 1 - train_ratio, random_state=42)\n",
    "lr_model=LogisticRegression(max_iter=1000).fit(trainX,trainY_bi.ravel())\n",
    "print(\"w=\",lr_model.coef_,\"\\nb=\",lr_model.intercept_,\"\\ntraining error=\",lr_model.score(trainX,trainY_bi))\n",
    "print(\"Cross validation=\",lr_model.score(testX,testY_bi))"
   ]
  },
  {
   "cell_type": "code",
   "execution_count": 11,
   "id": "265f5d5d",
   "metadata": {},
   "outputs": [
    {
     "name": "stdout",
     "output_type": "stream",
     "text": [
      "w= [[-0.5684104   0.07126977 -4.91391179  3.5711342 ]] \n",
      "b= [0.00068905] \n",
      "training error= 0.9866056290267887\n",
      "Cross validation= 0.9866172348313591\n"
     ]
    }
   ],
   "source": [
    "#nadir 3.3 Hz\n",
    "\n",
    "x=sfrData[:,[0,2,3,9]];\n",
    "y=sfrData[:,[10]]\n",
    "y_bi=y.copy();\n",
    "\n",
    "y_bi[y >= -3.3] = 1;\n",
    "y_bi[y < -3.3] = 0;\n",
    "\n",
    "train_ratio = 0.80\n",
    "test_ratio = 0.2\n",
    "trainX, testX, trainY_bi, testY_bi, trainY, testY = train_test_split(x, y_bi, y, test_size= 1 - train_ratio, random_state=42)\n",
    "lr_model=LogisticRegression(max_iter=1000).fit(trainX,trainY_bi.ravel())\n",
    "print(\"w=\",lr_model.coef_,\"\\nb=\",lr_model.intercept_,\"\\ntraining error=\",lr_model.score(trainX,trainY_bi))\n",
    "print(\"Cross validation=\",lr_model.score(testX,testY_bi))"
   ]
  },
  {
   "cell_type": "code",
   "execution_count": 12,
   "id": "28955bb7",
   "metadata": {},
   "outputs": [
    {
     "name": "stdout",
     "output_type": "stream",
     "text": [
      "w= [[-0.51462321  0.06750551 -4.79446214  3.17206649]] \n",
      "b= [-0.01823947] \n",
      "training error= 0.9840058776986549\n",
      "Cross validation= 0.9844018446514151\n"
     ]
    }
   ],
   "source": [
    "#nadir 3.2 Hz\n",
    "\n",
    "x=sfrData[:,[0,2,3,9]];\n",
    "y=sfrData[:,[10]]\n",
    "y_bi=y.copy();\n",
    "\n",
    "y_bi[y >= -3.2] = 1;\n",
    "y_bi[y < -3.2] = 0;\n",
    "\n",
    "train_ratio = 0.80\n",
    "test_ratio = 0.2\n",
    "trainX, testX, trainY_bi, testY_bi, trainY, testY = train_test_split(x, y_bi, y, test_size= 1 - train_ratio, random_state=42)\n",
    "lr_model=LogisticRegression(max_iter=1000).fit(trainX,trainY_bi.ravel())\n",
    "print(\"w=\",lr_model.coef_,\"\\nb=\",lr_model.intercept_,\"\\ntraining error=\",lr_model.score(trainX,trainY_bi))\n",
    "print(\"Cross validation=\",lr_model.score(testX,testY_bi))"
   ]
  },
  {
   "cell_type": "code",
   "execution_count": 13,
   "id": "bc3e5c2a",
   "metadata": {},
   "outputs": [
    {
     "name": "stdout",
     "output_type": "stream",
     "text": [
      "w= [[-0.48787124  0.06737791 -4.49305877  2.64221023]] \n",
      "b= [-1.35732672] \n",
      "training error= 0.9788289815756753\n",
      "Cross validation= 0.9788859752237996\n"
     ]
    }
   ],
   "source": [
    "#nadir 3.1 Hz\n",
    "\n",
    "x=sfrData[:,[0,2,3,9]];\n",
    "y=sfrData[:,[10]]\n",
    "y_bi=y.copy();\n",
    "\n",
    "y_bi[y >= -3.1] = 1;\n",
    "y_bi[y < -3.1] = 0;\n",
    "\n",
    "train_ratio = 0.80\n",
    "test_ratio = 0.2\n",
    "trainX, testX, trainY_bi, testY_bi, trainY, testY = train_test_split(x, y_bi, y, test_size= 1 - train_ratio, random_state=42)\n",
    "lr_model=LogisticRegression(max_iter=1000).fit(trainX,trainY_bi.ravel())\n",
    "print(\"w=\",lr_model.coef_,\"\\nb=\",lr_model.intercept_,\"\\ntraining error=\",lr_model.score(trainX,trainY_bi))\n",
    "print(\"Cross validation=\",lr_model.score(testX,testY_bi))"
   ]
  },
  {
   "cell_type": "code",
   "execution_count": 14,
   "id": "44c4efbe",
   "metadata": {},
   "outputs": [
    {
     "name": "stdout",
     "output_type": "stream",
     "text": [
      "w= [[-0.456884    0.06643285 -4.33310143  2.20196743]] \n",
      "b= [-1.97598845] \n",
      "training error= 0.9721374477223917\n",
      "Cross validation= 0.9712451397052174\n"
     ]
    }
   ],
   "source": [
    "#nadir 3 Hz\n",
    "\n",
    "x=sfrData[:,[0,2,3,9]]\n",
    "y=sfrData[:,[10]]\n",
    "y_bi=y.copy();\n",
    "y_bi[y > -3] = 1;\n",
    "y_bi[y <= -3] = 0;\n",
    "\n",
    "train_ratio = 0.80\n",
    "test_ratio = 0.2\n",
    "trainX, testX, trainY_bi, testY_bi, trainY, testY = train_test_split(x, y_bi, y, test_size= 1 - train_ratio, random_state=42)\n",
    "lr_model=LogisticRegression(max_iter=1000).fit(trainX,trainY_bi.ravel())\n",
    "print(\"w=\",lr_model.coef_,\"\\nb=\",lr_model.intercept_,\"\\ntraining error=\",lr_model.score(trainX,trainY_bi))\n",
    "print(\"Cross validation=\",lr_model.score(testX,testY_bi))"
   ]
  },
  {
   "cell_type": "code",
   "execution_count": 15,
   "id": "1c0ea46b",
   "metadata": {},
   "outputs": [
    {
     "name": "stdout",
     "output_type": "stream",
     "text": [
      "w= [[-0.41219794  0.06580827 -4.67333309  2.00825938]] \n",
      "b= [-2.0623524] \n",
      "training error= 0.9680795749971742\n",
      "Cross validation= 0.966497875033909\n"
     ]
    }
   ],
   "source": [
    "#nadir 2.9 Hz\n",
    "\n",
    "x=sfrData[:,[0,2,3,9]];\n",
    "y=sfrData[:,[10]]\n",
    "y_bi=y.copy();\n",
    "\n",
    "y_bi[y >= -2.9] = 1;\n",
    "y_bi[y < -2.9] = 0;\n",
    "\n",
    "train_ratio = 0.80\n",
    "test_ratio = 0.2\n",
    "trainX, testX, trainY_bi, testY_bi, trainY, testY = train_test_split(x, y_bi, y, test_size= 1 - train_ratio, random_state=42)\n",
    "lr_model=LogisticRegression(max_iter=1000).fit(trainX,trainY_bi.ravel())\n",
    "print(\"w=\",lr_model.coef_,\"\\nb=\",lr_model.intercept_,\"\\ntraining error=\",lr_model.score(trainX,trainY_bi))\n",
    "print(\"Cross validation=\",lr_model.score(testX,testY_bi))"
   ]
  },
  {
   "cell_type": "code",
   "execution_count": 16,
   "id": "a523866c",
   "metadata": {},
   "outputs": [
    {
     "name": "stdout",
     "output_type": "stream",
     "text": [
      "w= [[-0.40840966  0.06817966 -4.74264797  1.72647821]] \n",
      "b= [-2.72904767] \n",
      "training error= 0.9628235560076862\n",
      "Cross validation= 0.9606655212948729\n"
     ]
    }
   ],
   "source": [
    "#nadir 2.8 Hz\n",
    "\n",
    "x=sfrData[:,[0,2,3,9]];\n",
    "y=sfrData[:,[10]]\n",
    "y_bi=y.copy();\n",
    "\n",
    "y_bi[y >= -2.8] = 1;\n",
    "y_bi[y < -2.8] = 0;\n",
    "\n",
    "train_ratio = 0.80\n",
    "test_ratio = 0.2\n",
    "trainX, testX, trainY_bi, testY_bi, trainY, testY = train_test_split(x, y_bi, y, test_size= 1 - train_ratio, random_state=42)\n",
    "lr_model=LogisticRegression(max_iter=1000).fit(trainX,trainY_bi.ravel())\n",
    "print(\"w=\",lr_model.coef_,\"\\nb=\",lr_model.intercept_,\"\\ntraining error=\",lr_model.score(trainX,trainY_bi))\n",
    "print(\"Cross validation=\",lr_model.score(testX,testY_bi))"
   ]
  },
  {
   "cell_type": "code",
   "execution_count": 17,
   "id": "08832082",
   "metadata": {},
   "outputs": [
    {
     "name": "stdout",
     "output_type": "stream",
     "text": [
      "w= [[-0.38630606  0.06921278 -5.1811914   1.61108176]] \n",
      "b= [-2.46151347] \n",
      "training error= 0.9627444331411777\n",
      "Cross validation= 0.9627452753413509\n"
     ]
    }
   ],
   "source": [
    "#nadir 2.7 Hz\n",
    "\n",
    "x=sfrData[:,[0,2,3,9]];\n",
    "y=sfrData[:,[10]]\n",
    "y_bi=y.copy();\n",
    "\n",
    "y_bi[y >= -2.7] = 1;\n",
    "y_bi[y < -2.7] = 0;\n",
    "\n",
    "train_ratio = 0.80\n",
    "test_ratio = 0.2\n",
    "trainX, testX, trainY_bi, testY_bi, trainY, testY = train_test_split(x, y_bi, y, test_size= 1 - train_ratio, random_state=42)\n",
    "lr_model=LogisticRegression(max_iter=1000).fit(trainX,trainY_bi.ravel())\n",
    "print(\"w=\",lr_model.coef_,\"\\nb=\",lr_model.intercept_,\"\\ntraining error=\",lr_model.score(trainX,trainY_bi))\n",
    "print(\"Cross validation=\",lr_model.score(testX,testY_bi))"
   ]
  },
  {
   "cell_type": "code",
   "execution_count": 18,
   "id": "2abbc251",
   "metadata": {},
   "outputs": [
    {
     "name": "stdout",
     "output_type": "stream",
     "text": [
      "w= [[-0.35680933  0.0676894  -5.15784091  1.3487068 ]] \n",
      "b= [-2.95403123] \n",
      "training error= 0.9626540070080253\n",
      "Cross validation= 0.9627904873858396\n"
     ]
    }
   ],
   "source": [
    "#nadir 2.6 Hz\n",
    "\n",
    "x=sfrData[:,[0,2,3,9]];\n",
    "y=sfrData[:,[10]]\n",
    "y_bi=y.copy();\n",
    "\n",
    "y_bi[y >= -2.6] = 1;\n",
    "y_bi[y < -2.6] = 0;\n",
    "\n",
    "train_ratio = 0.80\n",
    "test_ratio = 0.2\n",
    "trainX, testX, trainY_bi, testY_bi, trainY, testY = train_test_split(x, y_bi, y, test_size= 1 - train_ratio, random_state=42)\n",
    "lr_model=LogisticRegression(max_iter=1000).fit(trainX,trainY_bi.ravel())\n",
    "print(\"w=\",lr_model.coef_,\"\\nb=\",lr_model.intercept_,\"\\ntraining error=\",lr_model.score(trainX,trainY_bi))\n",
    "print(\"Cross validation=\",lr_model.score(testX,testY_bi))"
   ]
  },
  {
   "cell_type": "code",
   "execution_count": 19,
   "id": "941fbcca",
   "metadata": {},
   "outputs": [
    {
     "name": "stdout",
     "output_type": "stream",
     "text": [
      "w= [[-0.34759675  0.0669719  -5.33628921  1.26857062]] \n",
      "b= [-2.3277676] \n",
      "training error= 0.9673561659319543\n",
      "Cross validation= 0.9679898725020345\n"
     ]
    }
   ],
   "source": [
    "#nadir 2.5 Hz\n",
    "\n",
    "y_bi[y >= -2.5] = 1;\n",
    "y_bi[y < -2.5] = 0;\n",
    "\n",
    "train_ratio = 0.80\n",
    "test_ratio = 0.2\n",
    "trainX, testX, trainY_bi, testY_bi, trainY, testY = train_test_split(x, y_bi, y, test_size= 1 - train_ratio, random_state=42)\n",
    "lr_model=LogisticRegression(max_iter=1000).fit(trainX,trainY_bi.ravel())\n",
    "print(\"w=\",lr_model.coef_,\"\\nb=\",lr_model.intercept_,\"\\ntraining error=\",lr_model.score(trainX,trainY_bi))\n",
    "print(\"Cross validation=\",lr_model.score(testX,testY_bi))"
   ]
  },
  {
   "cell_type": "code",
   "execution_count": 20,
   "id": "7d3e7af1",
   "metadata": {},
   "outputs": [
    {
     "name": "stdout",
     "output_type": "stream",
     "text": [
      "w= [[-0.24919179  0.05812038 -5.63710384  1.15780389]] \n",
      "b= [-1.44664794] \n",
      "training error= 0.97179834972307\n",
      "Cross validation= 0.9723302287729451\n"
     ]
    }
   ],
   "source": [
    "#nadir 2.4 Hz\n",
    "\n",
    "x=sfrData[:,[0,2,3,9]];\n",
    "y=sfrData[:,[10]]\n",
    "y_bi=y.copy();\n",
    "\n",
    "y_bi[y >= -2.4] = 1;\n",
    "y_bi[y < -2.4] = 0;\n",
    "\n",
    "train_ratio = 0.80\n",
    "test_ratio = 0.2\n",
    "trainX, testX, trainY_bi, testY_bi, trainY, testY = train_test_split(x, y_bi, y, test_size= 1 - train_ratio, random_state=42)\n",
    "lr_model=LogisticRegression(max_iter=1000).fit(trainX,trainY_bi.ravel())\n",
    "print(\"w=\",lr_model.coef_,\"\\nb=\",lr_model.intercept_,\"\\ntraining error=\",lr_model.score(trainX,trainY_bi))\n",
    "print(\"Cross validation=\",lr_model.score(testX,testY_bi))"
   ]
  },
  {
   "cell_type": "code",
   "execution_count": 21,
   "id": "49a5eadd",
   "metadata": {},
   "outputs": [
    {
     "name": "stdout",
     "output_type": "stream",
     "text": [
      "w= [[-0.23318268  0.05465937 -5.6795615   1.10199865]] \n",
      "b= [-0.11243555] \n",
      "training error= 0.9739007573188652\n",
      "Cross validation= 0.9749073153087983\n"
     ]
    }
   ],
   "source": [
    "#nadir 2.3 Hz\n",
    "\n",
    "x=sfrData[:,[0,2,3,9]];\n",
    "y=sfrData[:,[10]]\n",
    "y_bi=y.copy();\n",
    "\n",
    "y_bi[y >= -2.3] = 1;\n",
    "y_bi[y < -2.3] = 0;\n",
    "\n",
    "train_ratio = 0.80\n",
    "test_ratio = 0.2\n",
    "trainX, testX, trainY_bi, testY_bi, trainY, testY = train_test_split(x, y_bi, y, test_size= 1 - train_ratio, random_state=42)\n",
    "lr_model=LogisticRegression(max_iter=1000).fit(trainX,trainY_bi.ravel())\n",
    "print(\"w=\",lr_model.coef_,\"\\nb=\",lr_model.intercept_,\"\\ntraining error=\",lr_model.score(trainX,trainY_bi))\n",
    "print(\"Cross validation=\",lr_model.score(testX,testY_bi))"
   ]
  },
  {
   "cell_type": "code",
   "execution_count": 22,
   "id": "44c11158",
   "metadata": {},
   "outputs": [
    {
     "name": "stdout",
     "output_type": "stream",
     "text": [
      "w= [[-0.23476179  0.05669813 -6.08290413  1.0296312 ]] \n",
      "b= [-0.10962151] \n",
      "training error= 0.9798349723069967\n",
      "Cross validation= 0.9794737318021521\n"
     ]
    }
   ],
   "source": [
    "#nadir 2.2 Hz\n",
    "\n",
    "x=sfrData[:,[0,2,3,9]];\n",
    "y=sfrData[:,[10]]\n",
    "y_bi=y.copy();\n",
    "\n",
    "y_bi[y >= -2.2] = 1;\n",
    "y_bi[y < -2.2] = 0;\n",
    "\n",
    "train_ratio = 0.80\n",
    "test_ratio = 0.2\n",
    "trainX, testX, trainY_bi, testY_bi, trainY, testY = train_test_split(x, y_bi, y, test_size= 1 - train_ratio, random_state=42)\n",
    "lr_model=LogisticRegression(max_iter=1000).fit(trainX,trainY_bi.ravel())\n",
    "print(\"w=\",lr_model.coef_,\"\\nb=\",lr_model.intercept_,\"\\ntraining error=\",lr_model.score(trainX,trainY_bi))\n",
    "print(\"Cross validation=\",lr_model.score(testX,testY_bi))"
   ]
  },
  {
   "cell_type": "code",
   "execution_count": 23,
   "id": "3a06635d",
   "metadata": {},
   "outputs": [
    {
     "name": "stdout",
     "output_type": "stream",
     "text": [
      "w= [[-0.21688404  0.05546979 -6.38922506  1.00816742]] \n",
      "b= [-0.09191428] \n",
      "training error= 0.982152141969029\n",
      "Cross validation= 0.9813274256261868\n"
     ]
    }
   ],
   "source": [
    "#nadir 2.1 Hz\n",
    "\n",
    "x=sfrData[:,[0,2,3,9]];\n",
    "y=sfrData[:,[10]]\n",
    "y_bi=y.copy();\n",
    "\n",
    "y_bi[y >= -2.1] = 1;\n",
    "y_bi[y < -2.1] = 0;\n",
    "\n",
    "train_ratio = 0.80\n",
    "test_ratio = 0.2\n",
    "trainX, testX, trainY_bi, testY_bi, trainY, testY = train_test_split(x, y_bi, y, test_size= 1 - train_ratio, random_state=42)\n",
    "lr_model=LogisticRegression(max_iter=1000).fit(trainX,trainY_bi.ravel())\n",
    "print(\"w=\",lr_model.coef_,\"\\nb=\",lr_model.intercept_,\"\\ntraining error=\",lr_model.score(trainX,trainY_bi))\n",
    "print(\"Cross validation=\",lr_model.score(testX,testY_bi))"
   ]
  },
  {
   "cell_type": "code",
   "execution_count": 24,
   "id": "fb049b20",
   "metadata": {},
   "outputs": [
    {
     "name": "stdout",
     "output_type": "stream",
     "text": [
      "w= [[-0.26247358  0.06393515 -7.29668904  1.02462604]] \n",
      "b= [-0.09626927] \n",
      "training error= 0.9860404656945857\n",
      "Cross validation= 0.9839949362510173\n"
     ]
    }
   ],
   "source": [
    "#nadir 2 Hz\n",
    "\n",
    "x=sfrData[:,[0,2,3,9]];\n",
    "y=sfrData[:,[10]]\n",
    "y_bi=y.copy();\n",
    "\n",
    "y_bi[y >= -2] = 1;\n",
    "y_bi[y < -2] = 0;\n",
    "\n",
    "train_ratio = 0.80\n",
    "test_ratio = 0.2\n",
    "trainX, testX, trainY_bi, testY_bi, trainY, testY = train_test_split(x, y_bi, y, test_size= 1 - train_ratio, random_state=42)\n",
    "lr_model=LogisticRegression(max_iter=1000).fit(trainX,trainY_bi.ravel())\n",
    "print(\"w=\",lr_model.coef_,\"\\nb=\",lr_model.intercept_,\"\\ntraining error=\",lr_model.score(trainX,trainY_bi))\n",
    "print(\"Cross validation=\",lr_model.score(testX,testY_bi))"
   ]
  },
  {
   "cell_type": "code",
   "execution_count": null,
   "id": "733b2efe",
   "metadata": {},
   "outputs": [],
   "source": []
  }
 ],
 "metadata": {
  "kernelspec": {
   "display_name": "Python 3 (ipykernel)",
   "language": "python",
   "name": "python3"
  },
  "language_info": {
   "codemirror_mode": {
    "name": "ipython",
    "version": 3
   },
   "file_extension": ".py",
   "mimetype": "text/x-python",
   "name": "python",
   "nbconvert_exporter": "python",
   "pygments_lexer": "ipython3",
   "version": "3.11.5"
  }
 },
 "nbformat": 4,
 "nbformat_minor": 5
}
